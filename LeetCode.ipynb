{
 "cells": [
  {
   "attachments": {},
   "cell_type": "markdown",
   "metadata": {},
   "source": [
    "219"
   ]
  },
  {
   "cell_type": "code",
   "execution_count": 22,
   "metadata": {},
   "outputs": [
    {
     "name": "stdout",
     "output_type": "stream",
     "text": [
      "False\n"
     ]
    }
   ],
   "source": [
    "d={}\n",
    "for i in range(len(nums)):\n",
    "    if nums[i] in d: \n",
    "        if abs(d[nums[i]]- i) <=k:\n",
    "            print True\n",
    "    d[nums[i]] = i \n",
    "\n",
    "print (False)"
   ]
  },
  {
   "cell_type": "code",
   "execution_count": 45,
   "metadata": {},
   "outputs": [
    {
     "name": "stdout",
     "output_type": "stream",
     "text": [
      "[['eat', 'tea', 'ate'], ['tan', 'nat'], ['bat']]\n"
     ]
    }
   ],
   "source": [
    "strs = [\"eat\",\"tea\",\"tan\",\"ate\",\"nat\",\"bat\"]\n",
    "\n",
    "d = dict()\n",
    "for i in strs: \n",
    "    s = \"\"\n",
    "    temp = sorted(i)\n",
    "    s = s.join(temp)\n",
    "    if s in d:\n",
    "        d[s].append(i)\n",
    "    else: \n",
    "        d[s] = [i]\n",
    "\n",
    "ans = []\n",
    "\n",
    "for i in d: \n",
    "    ans.append(d[i])\n",
    "\n",
    "return(ans)"
   ]
  },
  {
   "cell_type": "code",
   "execution_count": 67,
   "metadata": {},
   "outputs": [
    {
     "name": "stdout",
     "output_type": "stream",
     "text": [
      "0\n",
      "-1\n",
      "2\n"
     ]
    }
   ],
   "source": [
    "#128 \n",
    "nums = [100, 4, 200,1,3,2]\n",
    "\n",
    "max = 0\n",
    "min = 0\n",
    "for i in nums: \n",
    "    if i > max:\n",
    "        max = i\n",
    "    if i < min: \n",
    "        min = i \n",
    "\n",
    "max += 1\n",
    "arr = {}\n",
    "\n",
    "for i in arr:\n",
    "    print(i)\n",
    "\n",
    "countmax = 1\n",
    "ans = 0\n",
    "for i in arr:\n",
    "    if arr[i] == 0: \n",
    "        countmax = 0\n",
    "    if arr[i] == 1: \n",
    "        countmax += 1\n",
    "    if countmax > ans:\n",
    "        ans = countmax \n",
    "\n",
    "print(ans)\n"
   ]
  },
  {
   "cell_type": "code",
   "execution_count": 73,
   "metadata": {},
   "outputs": [
    {
     "name": "stdout",
     "output_type": "stream",
     "text": [
      "diff1: 1\n",
      "diff1: 3\n",
      "diff1: 2\n",
      "diff1: 1\n",
      "0\n"
     ]
    }
   ],
   "source": [
    "#2367\n",
    "nums = [0,1,4,6,7,10]\n",
    "diff = 3 \n",
    "\n",
    "d = {}\n",
    "\n",
    "\n",
    "print(count)"
   ]
  }
 ],
 "metadata": {
  "kernelspec": {
   "display_name": "Python 3",
   "language": "python",
   "name": "python3"
  },
  "language_info": {
   "codemirror_mode": {
    "name": "ipython",
    "version": 3
   },
   "file_extension": ".py",
   "mimetype": "text/x-python",
   "name": "python",
   "nbconvert_exporter": "python",
   "pygments_lexer": "ipython3",
   "version": "3.8.10"
  },
  "orig_nbformat": 4
 },
 "nbformat": 4,
 "nbformat_minor": 2
}
