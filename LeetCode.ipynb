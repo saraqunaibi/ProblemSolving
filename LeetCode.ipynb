{
 "cells": [
  {
   "attachments": {},
   "cell_type": "markdown",
   "metadata": {},
   "source": [
    "219"
   ]
  },
  {
   "cell_type": "code",
   "execution_count": 22,
   "metadata": {},
   "outputs": [
    {
     "name": "stdout",
     "output_type": "stream",
     "text": [
      "False\n"
     ]
    }
   ],
   "source": [
    "d={}\n",
    "for i in range(len(nums)):\n",
    "    if nums[i] in d: \n",
    "        if abs(d[nums[i]]- i) <=k:\n",
    "            print True\n",
    "    d[nums[i]] = i \n",
    "\n",
    "print (False)"
   ]
  },
  {
   "cell_type": "code",
   "execution_count": 45,
   "metadata": {},
   "outputs": [
    {
     "name": "stdout",
     "output_type": "stream",
     "text": [
      "[['eat', 'tea', 'ate'], ['tan', 'nat'], ['bat']]\n"
     ]
    }
   ],
   "source": [
    "strs = [\"eat\",\"tea\",\"tan\",\"ate\",\"nat\",\"bat\"]\n",
    "\n",
    "d = dict()\n",
    "for i in strs: \n",
    "    s = \"\"\n",
    "    temp = sorted(i)\n",
    "    s = s.join(temp)\n",
    "    if s in d:\n",
    "        d[s].append(i)\n",
    "    else: \n",
    "        d[s] = [i]\n",
    "\n",
    "ans = []\n",
    "\n",
    "for i in d: \n",
    "    ans.append(d[i])\n",
    "\n",
    "return(ans)"
   ]
  },
  {
   "cell_type": "code",
   "execution_count": 67,
   "metadata": {},
   "outputs": [
    {
     "name": "stdout",
     "output_type": "stream",
     "text": [
      "0\n",
      "-1\n",
      "2\n"
     ]
    }
   ],
   "source": [
    "#128 \n",
    "nums = [100, 4, 200,1,3,2]\n",
    "\n",
    "max = 0\n",
    "min = 0\n",
    "for i in nums: \n",
    "    if i > max:\n",
    "        max = i\n",
    "    if i < min: \n",
    "        min = i \n",
    "\n",
    "max += 1\n",
    "arr = {}\n",
    "\n",
    "for i in arr:\n",
    "    print(i)\n",
    "\n",
    "countmax = 1\n",
    "ans = 0\n",
    "for i in arr:\n",
    "    if arr[i] == 0: \n",
    "        countmax = 0\n",
    "    if arr[i] == 1: \n",
    "        countmax += 1\n",
    "    if countmax > ans:\n",
    "        ans = countmax \n",
    "\n",
    "print(ans)\n"
   ]
  },
  {
   "cell_type": "code",
   "execution_count": 85,
   "metadata": {},
   "outputs": [
    {
     "name": "stdout",
     "output_type": "stream",
     "text": [
      "[1, 1, 0, 0, 1, 0, 1, 1, 0, 0, 1]\n",
      "2\n"
     ]
    }
   ],
   "source": [
    "#2367\n",
    "nums = [0,1,4,6,7,10]\n",
    "diff = 3 \n",
    "\n",
    "m = nums[len(nums)-1]\n",
    "d = [0]*(m+1)\n",
    "\n",
    "for i in nums:\n",
    "    d[i] = 1\n",
    "\n",
    "count = 0\n",
    "\n",
    "print(d)\n",
    "\n",
    "for i in range(len(d)-diff-diff):\n",
    "    if d[i] == 1:\n",
    "        if d[i+diff] == 1: \n",
    "            if d[i+diff+diff]== 1:\n",
    "                count += 1\n",
    "\n",
    "print(count)\n"
   ]
  },
  {
   "cell_type": "code",
   "execution_count": 87,
   "metadata": {},
   "outputs": [
    {
     "name": "stdout",
     "output_type": "stream",
     "text": [
      "{'j', 's', 'b', 'g', 'n', 'h', 'k', 'w', 'q', 'p', 'x', 'u', 'l', 'a', 't', 'y', 'r', 'z', 'o', 'e', 'i', 'd', 'm', 'c', 'v', 'f'}\n"
     ]
    }
   ],
   "source": [
    "d = \"thequickbrownfoxjumpsoverthelazydog\"\n",
    "print(set(d))"
   ]
  },
  {
   "cell_type": "code",
   "execution_count": 93,
   "metadata": {},
   "outputs": [
    {
     "name": "stdout",
     "output_type": "stream",
     "text": [
      "j: 2\n",
      "j: 1\n",
      "j: 5\n",
      "j: 4\n",
      "j: 1\n",
      "j: 5\n",
      "j: 4\n",
      "j: 5\n",
      "j: 4\n",
      "j: 4\n",
      "4\n"
     ]
    }
   ],
   "source": [
    "nums = [3,2,1,5,4]\n",
    "k =1\n",
    "\n",
    "count = 0 \n",
    "\n",
    "for i in range(len(nums)): \n",
    "    for j in range(i+1, len(nums)):\n",
    "        if abs(nums[i] - nums[j]) == k: \n",
    "            count += 1\n",
    "\n",
    "print (count)"
   ]
  },
  {
   "cell_type": "code",
   "execution_count": 100,
   "metadata": {},
   "outputs": [
    {
     "name": "stdout",
     "output_type": "stream",
     "text": [
      "[0, 2, 3, 4]\n"
     ]
    }
   ],
   "source": [
    "#2657\n",
    "A = [1,3,2,4]\n",
    "B = [3,1,2,4]\n",
    "ans = [0]* len(A)\n",
    "\n",
    "for i in range(len(ans)):\n",
    "    temp = set(A[:i+1])\n",
    "    temp2 = set(B[:i+1])\n",
    "    ans[i] = len(temp.intersection(temp2))\n",
    "\n",
    "print(ans)"
   ]
  },
  {
   "cell_type": "code",
   "execution_count": 145,
   "metadata": {},
   "outputs": [
    {
     "name": "stdout",
     "output_type": "stream",
     "text": [
      "8\n",
      "14\n",
      "15\n",
      "19\n",
      "22\n",
      "23\n",
      "[9, 7, 8]\n"
     ]
    }
   ],
   "source": [
    "#763. Partition Labels\n",
    "s = \"ababcbacadefegdehijhklij\"\n",
    "d = {}\n",
    "\n",
    "for i in range(len(s)): \n",
    "    d[s[i]]= i\n",
    "\n",
    "ans = []\n",
    "prev = -1\n",
    "maxi = 0\n",
    "\n",
    "for i in range(len(s)):\n",
    "    if maxi < d[s[i]]:\n",
    "        maxi = d[s[i]]\n",
    "        print(maxi)\n",
    "    # maxi = max(maxi, d[s[i]])\n",
    "    if maxi == i:\n",
    "        ans.append(maxi-prev)\n",
    "        prev = maxi\n",
    "\n",
    "\n",
    "print(ans)\n",
    "\n",
    "\n",
    "# print(d)\n",
    "    \n"
   ]
  },
  {
   "cell_type": "code",
   "execution_count": 166,
   "metadata": {},
   "outputs": [
    {
     "name": "stdout",
     "output_type": "stream",
     "text": [
      "0 s\n",
      "{'s': 's'}\n",
      "1 s\n",
      "2 s\n",
      "3 s\n",
      "4 s\n",
      "5 s\n",
      "6\n"
     ]
    }
   ],
   "source": [
    "#2405 Optimal Partition of String\n",
    "\n",
    "s = \"ssssss\"\n",
    "\n",
    "ans = [] \n",
    "d = {}\n",
    "temp = \"\"\n",
    "\n",
    "for i in range(len(s)):\n",
    "    print(i, s[i])\n",
    "    if s[i] in d: \n",
    "        ans.append(temp)\n",
    "        d.clear()\n",
    "        temp = \"\" \n",
    "        temp += s[i]\n",
    "        d[s[i]] = temp\n",
    "    else: \n",
    "        temp += s[i]\n",
    "        d[s[i]] = temp\n",
    "        print(d)\n",
    "\n",
    "ans.append(temp)\n",
    "\n",
    "print(len(ans))\n",
    "\n",
    "# print(d)"
   ]
  },
  {
   "cell_type": "code",
   "execution_count": 11,
   "metadata": {},
   "outputs": [
    {
     "name": "stdout",
     "output_type": "stream",
     "text": [
      "[1, 3] [4, 6]\n"
     ]
    }
   ],
   "source": [
    "#2215\n",
    "\n",
    "nums1 = [1,2,3]\n",
    "nums2 = [2,4,6]\n",
    "\n",
    "ans1 = []\n",
    "ans2 = []\n",
    "\n",
    "for i in nums1: \n",
    "    if i not in nums2: \n",
    "        ans1.append(i)\n",
    "\n",
    "for j in nums2: \n",
    "    if j not in nums1: \n",
    "        ans2.append(j)\n",
    "\n",
    "\n",
    "ans.append(ans1)\n",
    "ans.append(ans2)\n",
    "\n",
    "print(ans1, ans2)"
   ]
  },
  {
   "cell_type": "code",
   "execution_count": 44,
   "metadata": {},
   "outputs": [
    {
     "name": "stdout",
     "output_type": "stream",
     "text": [
      "0 3\n",
      "Changing penalty to 3\n",
      "1 2\n",
      "Changing penalty to 2\n",
      "2 1\n",
      "Changing penalty to 1\n",
      "3 2\n",
      "done\n",
      "1\n",
      "2\n"
     ]
    }
   ],
   "source": [
    "#2483\n",
    "\n",
    "customers = \"YYNY\"\n",
    "minpenalty = 10**5\n",
    "\n",
    "for i in range(len(customers)):\n",
    "    penalty = 0\n",
    "    # print(customers[:i])\n",
    "    penalty += customers[:i].count('N')\n",
    "    # print(customers[i:])\n",
    "    penalty += customers[i:].count('Y')\n",
    "    # print(i, penalty)\n",
    "    if penalty < minpenalty:\n",
    "        # print(\"Changing penalty to\", penalty)\n",
    "        minpenalty = penalty\n",
    "        ans = i\n",
    "\n",
    "\n",
    "\n",
    "# print(ans)\n",
    "\n",
    "\n"
   ]
  },
  {
   "cell_type": "code",
   "execution_count": 3,
   "metadata": {},
   "outputs": [
    {
     "name": "stdout",
     "output_type": "stream",
     "text": [
      "True\n"
     ]
    }
   ],
   "source": [
    "#1941\n",
    "s = \"abacbc\"\n",
    "d = {}\n",
    "for i in s:\n",
    "    if i not in d: \n",
    "        d[i] = 1\n",
    "    else:\n",
    "        d[i] += 1\n",
    "\n",
    "count = d[s[0]]\n",
    "\n",
    "for i in d:\n",
    "    if d[i] != count:\n",
    "        print(False)\n",
    "\n",
    "print(True)"
   ]
  },
  {
   "cell_type": "code",
   "execution_count": 17,
   "metadata": {},
   "outputs": [
    {
     "name": "stdout",
     "output_type": "stream",
     "text": [
      "[3, 1]\n"
     ]
    }
   ],
   "source": [
    "nums = [1,3,2,1,3,2,2]\n",
    "d = {}\n",
    "\n",
    "for num in nums: \n",
    "    if num not in d: \n",
    "        d[num] = 1\n",
    "    else:\n",
    "        d[num] += 1\n",
    "\n",
    "div = 0\n",
    "rem = 0\n",
    "\n",
    "for num in d:\n",
    "    div += int(d[num]/2)\n",
    "    rem += d[num]%2\n",
    "\n",
    "ans = [div, rem]\n",
    "\n",
    "print(ans)\n"
   ]
  },
  {
   "cell_type": "code",
   "execution_count": 20,
   "metadata": {},
   "outputs": [
    {
     "name": "stdout",
     "output_type": "stream",
     "text": [
      "()\n",
      "()[]\n",
      "()[]{}\n"
     ]
    }
   ],
   "source": [
    "s = \"()[]{}\"\n",
    "stack = []\n",
    "\n",
    "d = {}\n",
    "d['{'] = '}'\n",
    "d['('] = ')'\n",
    "d['['] = ']'\n",
    "temp = \"\"\n",
    "\n",
    "for i in s: \n",
    "    if i in d: \n",
    "        temp += i\n",
    "        temp += d[i]\n",
    "        print(temp)\n",
    "    else: \n",
    "        continue\n",
    "if s == temp: \n",
    "    return True\n",
    "else: \n",
    "    return False"
   ]
  },
  {
   "cell_type": "code",
   "execution_count": 29,
   "metadata": {},
   "outputs": [
    {
     "name": "stdout",
     "output_type": "stream",
     "text": [
      "[1, 1, 2]\n"
     ]
    }
   ],
   "source": [
    "list1 = [1,2,4]\n",
    "list2 = [1,3,4]\n",
    "\n",
    "curr = ans = ListNode()\n",
    "\n",
    "while list1 and list2:\n",
    "    if list1.val < list2.val:\n",
    "        curr.next = list1\n",
    "        list1, curr = list1.next, list1 \n",
    "    else: \n",
    "        curr.next = list2\n",
    "        list2, curr = list2.next, \n",
    "\n",
    "if list1 or list2: \n",
    "    curr.next = list1 if list1 else list2 \n",
    "\n",
    "return ans.next \n",
    "    \n",
    "print(ans)"
   ]
  },
  {
   "cell_type": "code",
   "execution_count": 37,
   "metadata": {},
   "outputs": [
    {
     "name": "stdout",
     "output_type": "stream",
     "text": [
      "Mon\n",
      "Wed\n",
      "Tue\n"
     ]
    }
   ],
   "source": [
    "class Node:\n",
    "   def __init__(self, dataval=None):\n",
    "      self.dataval = dataval\n",
    "      self.nextval = None\n",
    "\n",
    "class SLinkedList:\n",
    "   def __init__(self):\n",
    "      self.headval = None\n",
    "\n",
    "   def listprint(self):\n",
    "      printval = self.headval\n",
    "      while printval is not None:\n",
    "         print (printval.dataval)\n",
    "         printval = printval.nextval\n",
    "\n",
    "list = SLinkedList()\n",
    "list.headval = Node(\"Mon\")\n",
    "e2 = Node(\"Tue\")\n",
    "e3 = Node(\"Wed\")\n",
    "\n",
    "# Link first Node to second node\n",
    "list.headval.nextval = e3\n",
    "\n",
    "# Link second Node to third node\n",
    "e3.nextval = e2\n",
    "\n",
    "list.listprint()"
   ]
  },
  {
   "cell_type": "code",
   "execution_count": 53,
   "metadata": {},
   "outputs": [
    {
     "name": "stdout",
     "output_type": "stream",
     "text": [
      "amanaplanacanalpanama\n",
      "amanaplanacanalpanama\n"
     ]
    }
   ],
   "source": [
    "s = \"A man, a plan, a canal: Panama\"\n",
    "\n",
    "s = s.lower()\n",
    "ans = \"\"\n",
    "\n",
    "for i in s: \n",
    "    if i in 'abcdefghijklmnopqrstuvwxyz':\n",
    "        ans += i\n",
    "\n",
    "ans2 = \"\"\n",
    "for i in reversed(ans):\n",
    "    ans2 += i\n",
    "\n",
    "if ans == ans2:\n",
    "    return True\n",
    "else\n",
    "    return False\n",
    "print(ans)\n",
    "print(ans2)"
   ]
  },
  {
   "cell_type": "code",
   "execution_count": null,
   "metadata": {},
   "outputs": [],
   "source": [
    "class TreeNode:\n",
    "    def __init__(self, val=0, left=None, right=None):\n",
    "        self.val = val\n",
    "        self.left = left\n",
    "        self.right = right\n",
    "\n",
    "curr = ans = TreeNode()\n"
   ]
  },
  {
   "cell_type": "code",
   "execution_count": 58,
   "metadata": {},
   "outputs": [
    {
     "name": "stdout",
     "output_type": "stream",
     "text": [
      "2\n"
     ]
    }
   ],
   "source": [
    "nums = [3,9,3]\n",
    "\n",
    "count = 0\n",
    "\n",
    "for i in range(1, len(nums)):\n",
    "    while nums[i]>nums[i+1]:\n",
    "        num1 = nums[i-1] \n",
    "        num2 = nums[i] - nums[i-1]\n",
    "        nums[i] = num1\n",
    "        nums.insert(i+1, num2)\n",
    "        count += 1\n",
    "\n",
    "print(count)\n"
   ]
  },
  {
   "cell_type": "code",
   "execution_count": 61,
   "metadata": {},
   "outputs": [
    {
     "name": "stdout",
     "output_type": "stream",
     "text": [
      "arr [-1, 0, 3, 5, 9, 12]\n",
      "low 0\n",
      "high 5\n",
      "mid:  2\n",
      "arr [-1, 0, 3, 5, 9, 12]\n",
      "low 3\n",
      "high 5\n",
      "mid:  4\n",
      "4\n"
     ]
    }
   ],
   "source": [
    "#Binary Search\n",
    "\n",
    "nums = [-1,0,3,5,9,12]\n",
    "target = 9\n",
    "\n",
    "\n",
    "def binary_search(arr, low, high, x):\n",
    "    print(\"arr\", arr)\n",
    "    print('low', low)\n",
    "    print(\"high\", high)\n",
    "\n",
    "    if high >= low:\n",
    "        mid = (high +low) //2\n",
    "        print(\"mid: \", mid)\n",
    "        if arr[mid] == x:\n",
    "            return mid\n",
    "        elif arr[mid] > x:\n",
    "            return binary_search(arr, low, mid -1, x)\n",
    "        else:\n",
    "            return binary_search(arr, mid+1, high, x)\n",
    "    else:\n",
    "        return -1\n",
    "\n",
    "print (binary_search(nums, 0, len(nums)-1, target))\n",
    "\n",
    "\n",
    "\n",
    "\n"
   ]
  },
  {
   "cell_type": "code",
   "execution_count": null,
   "metadata": {},
   "outputs": [],
   "source": [
    "nums = [5,3,1,1,1,3,73,1]\n",
    "k = 2\n",
    "\n",
    "d = {}\n",
    "ans = []\n",
    "\n",
    "for i in nums: \n",
    "    if i not in d: \n",
    "        d[i] = 1\n",
    "    else:\n",
    "        d[i] += 1\n",
    "\n",
    "print (d) \n",
    "\n",
    "for i in range(k):\n",
    "    maxi = 0\n",
    "    for i in d: \n",
    "        print(\"for\", i , \"in\", d)\n",
    "        print(\"maxi\", maxi)\n",
    "        if d[i] > maxi: \n",
    "            maxi = d[i]\n",
    "            index = i\n",
    "        \n",
    "    d[index] = 0\n",
    "    ans.append(index)\n",
    "\n",
    "print (ans)"
   ]
  },
  {
   "cell_type": "code",
   "execution_count": 114,
   "metadata": {},
   "outputs": [
    {
     "name": "stdout",
     "output_type": "stream",
     "text": [
      "{}\n",
      "done with rows\n",
      "done with column\n",
      "{'5': 1}\n",
      "{'5': 2}\n",
      "{'5': 3}\n",
      "{'5': 3, '3': 1}\n",
      "{'5': 3, '3': 2}\n",
      "{'5': 3, '3': 3}\n",
      "False\n",
      "False\n",
      "{'5': 1}\n",
      "{'5': 2}\n",
      "{'5': 3}\n",
      "{'5': 3, '3': 1}\n",
      "{'5': 3, '3': 2}\n",
      "{'5': 3, '3': 3}\n",
      "False\n",
      "False\n",
      "{'5': 1}\n",
      "{'5': 2}\n",
      "{'5': 3}\n",
      "{'5': 3, '3': 1}\n",
      "{'5': 3, '3': 2}\n",
      "{'5': 3, '3': 3}\n",
      "False\n",
      "False\n",
      "{'6': 1}\n",
      "{'6': 2}\n",
      "{'6': 3}\n",
      "False\n",
      "{'6': 1}\n",
      "{'6': 2}\n",
      "{'6': 3}\n",
      "False\n",
      "{'6': 1}\n",
      "{'6': 2}\n",
      "{'6': 3}\n",
      "False\n",
      "{'9': 1}\n",
      "{'9': 2}\n",
      "{'9': 3}\n",
      "{'9': 3, '8': 1}\n",
      "{'9': 3, '8': 2}\n",
      "{'9': 3, '8': 3}\n",
      "False\n",
      "False\n",
      "{'9': 1}\n",
      "{'9': 2}\n",
      "{'9': 3}\n",
      "{'9': 3, '8': 1}\n",
      "{'9': 3, '8': 2}\n",
      "{'9': 3, '8': 3}\n",
      "False\n",
      "False\n",
      "{'9': 1}\n",
      "{'9': 2}\n",
      "{'9': 3}\n",
      "{'9': 3, '8': 1}\n",
      "{'9': 3, '8': 2}\n",
      "{'9': 3, '8': 3}\n",
      "False\n",
      "False\n",
      "done\n"
     ]
    }
   ],
   "source": [
    "board = [[\"5\",\"3\",\".\",\".\",\"7\",\".\",\".\",\".\",\".\"]\n",
    ",[\"6\",\".\",\".\",\"1\",\"9\",\"5\",\".\",\".\",\".\"]\n",
    ",[\".\",\"9\",\"8\",\".\",\".\",\".\",\".\",\"6\",\".\"]\n",
    ",[\"8\",\".\",\".\",\".\",\"6\",\".\",\".\",\".\",\"3\"]\n",
    ",[\"4\",\".\",\".\",\"8\",\".\",\"3\",\".\",\".\",\"1\"]\n",
    ",[\"7\",\".\",\".\",\".\",\"2\",\".\",\".\",\".\",\"6\"]\n",
    ",[\".\",\"6\",\".\",\".\",\".\",\".\",\"2\",\"8\",\".\"]\n",
    ",[\".\",\".\",\".\",\"4\",\"1\",\"9\",\".\",\".\",\"5\"]\n",
    ",[\".\",\".\",\".\",\".\",\"8\",\".\",\".\",\"7\",\"9\"]]\n",
    "\n",
    "d = {}\n",
    "print(d)\n",
    "#check rows\n",
    "for i in range(len(board)):\n",
    "    for j in board[i]:\n",
    "        if j == '.':\n",
    "            continue\n",
    "        else:\n",
    "            if j not in d:\n",
    "                d[j] = 1\n",
    "            else:\n",
    "                d[j] += 1\n",
    "    for i in d:\n",
    "        if d[i] > 1:\n",
    "            print (False)\n",
    "        else:\n",
    "            continue\n",
    "    d.clear()\n",
    "\n",
    "print(\"done with rows\")\n",
    "\n",
    "for i in range(len(board)):\n",
    "    for k in range(len(board[i])):\n",
    "        j = board[k][i]\n",
    "        if j == '.':\n",
    "            continue\n",
    "        else:\n",
    "            if j not in d:\n",
    "                d[j] = 1\n",
    "            else:\n",
    "                d[j] += 1\n",
    "    for i in d:\n",
    "        if d[i] > 1:\n",
    "            print (False)\n",
    "        else:\n",
    "            continue\n",
    "    d.clear()\n",
    "\n",
    "print(\"done with column\")\n",
    "\n",
    "for i in range(len(board)):\n",
    "    for k in range(len(board[i])):\n",
    "        j = board[i][k]\n",
    "        if j == '.':\n",
    "            continue\n",
    "        else:\n",
    "            if j not in d:\n",
    "                d[j] = 1\n",
    "            else:\n",
    "                d[j] += 1\n",
    "            print(d)\n",
    "    for i in d:\n",
    "        if d[i] > 1:\n",
    "            print (False)\n",
    "        else:\n",
    "            continue\n",
    "    d.clear()\n",
    "\n",
    "\n",
    "print('done')\n",
    "    \n"
   ]
  },
  {
   "cell_type": "code",
   "execution_count": 122,
   "metadata": {},
   "outputs": [
    {
     "name": "stdout",
     "output_type": "stream",
     "text": [
      "True\n"
     ]
    }
   ],
   "source": [
    "board = [[\"5\",\"3\",\".\",\".\",\"7\",\".\",\".\",\".\",\".\"]\n",
    ",[\"6\",\".\",\".\",\"1\",\"9\",\"5\",\".\",\".\",\".\"]\n",
    ",[\".\",\"9\",\"8\",\".\",\".\",\".\",\".\",\"6\",\".\"]\n",
    ",[\"8\",\".\",\".\",\".\",\"6\",\".\",\".\",\".\",\"3\"]\n",
    ",[\"4\",\".\",\".\",\"8\",\".\",\"3\",\".\",\".\",\"1\"]\n",
    ",[\"7\",\".\",\".\",\".\",\"2\",\".\",\".\",\".\",\"6\"]\n",
    ",[\".\",\"6\",\".\",\".\",\".\",\".\",\"2\",\"8\",\".\"]\n",
    ",[\".\",\".\",\".\",\"4\",\"1\",\"9\",\".\",\".\",\"5\"]\n",
    ",[\".\",\".\",\".\",\".\",\"8\",\".\",\".\",\"7\",\"9\"]]\n",
    "\n",
    "res = []\n",
    "for i, row in enumerate(board):\n",
    "    for j, x in enumerate(row):\n",
    "        if x != '.':\n",
    "            res += [(i, x), (x, j), (i // 3, j // 3, x)]\n",
    "\n",
    "print (len(res) == len(set(res)))\n",
    "\n"
   ]
  },
  {
   "cell_type": "code",
   "execution_count": 131,
   "metadata": {},
   "outputs": [
    {
     "name": "stdout",
     "output_type": "stream",
     "text": [
      "{'a': 1, 'b': 1, 'c': 4, 'd': 2}\n",
      "count: 4\n",
      "d {'a': 1, 'b': 1, 'c': 1, 'd': 2}\n",
      "count: 6\n",
      "d {'a': 1, 'b': 1, 'c': 1, 'd': 1}\n",
      "7\n"
     ]
    }
   ],
   "source": [
    "s = \"abccccdd\"\n",
    "\n",
    "d = {}\n",
    "for i in s:\n",
    "    if i not in d:\n",
    "        d[i] = 1\n",
    "    else: \n",
    "        d[i] += 1\n",
    "\n",
    "count = 0\n",
    "for i in d:\n",
    "    if d[i] >= 2:\n",
    "        count += d[i] - (d[i] % 2)\n",
    "        d[i] = 1\n",
    "        print(\"count:\", count)\n",
    "        print(\"d\", d)\n",
    "        \n",
    "for i in d:\n",
    "    if d[i]==1:\n",
    "        count += 1\n",
    "        break\n",
    "\n",
    "\n",
    "print (count)"
   ]
  },
  {
   "cell_type": "code",
   "execution_count": 10,
   "metadata": {},
   "outputs": [
    {
     "name": "stdout",
     "output_type": "stream",
     "text": [
      "0\n",
      "[10]\n",
      "[10, 6]\n",
      "[10, 6, 9]\n",
      "[10, 6, 9, 3]\n",
      "[10, 6, 12]\n",
      "[10, 6, 12, -11]\n",
      "[10, 6, -132]\n",
      "[10, 0]\n",
      "[0]\n",
      "[0, 17]\n",
      "[17]\n",
      "[17, 5]\n",
      "[22]\n",
      "22\n"
     ]
    }
   ],
   "source": [
    "tokens = [\"10\",\"6\",\"9\",\"3\",\"+\",\"-11\",\"*\",\"/\",\"*\",\"17\",\"+\",\"5\",\"+\"]\n",
    "\n",
    "stack = [] \n",
    "print(int(6/-132))\n",
    "\n",
    "\n",
    "for i in tokens: \n",
    "    if i in '+-*/':\n",
    "        if i == '+':\n",
    "            stack.append(stack.pop() + stack.pop())\n",
    "        if i == '*':\n",
    "            stack.append(stack.pop() * stack.pop())\n",
    "        if i == '-':\n",
    "            stack.append(stack.pop() - stack.pop())\n",
    "        if i == '/':\n",
    "            temp1 = stack.pop()\n",
    "            stack.append(int(stack.pop() / temp1))\n",
    "    else:\n",
    "        stack.append(int(i))\n",
    "    # print(stack)\n",
    "\n",
    "print(stack[0])\n",
    "\n"
   ]
  },
  {
   "cell_type": "code",
   "execution_count": 17,
   "metadata": {},
   "outputs": [
    {
     "name": "stdout",
     "output_type": "stream",
     "text": [
      "3 0 \n",
      "2 1 (\n",
      "1 2 ((\n",
      "0 3 (((\n",
      "0 2 ((()\n",
      "0 1 ((())\n",
      "0 0 ((()))\n",
      "1 1 (()\n",
      "0 2 (()(\n",
      "0 1 (()()\n",
      "0 0 (()())\n",
      "1 0 (())\n",
      "0 1 (())(\n",
      "0 0 (())()\n",
      "2 0 ()\n",
      "1 1 ()(\n",
      "0 2 ()((\n",
      "0 1 ()(()\n",
      "0 0 ()(())\n",
      "1 0 ()()\n",
      "0 1 ()()(\n",
      "0 0 ()()()\n",
      "['((()))', '(()())', '(())()', '()(())', '()()()']\n"
     ]
    }
   ],
   "source": [
    "n = 3\n",
    "ans = []\n",
    "\n",
    "\n",
    "def displayParenthesis(rem: int, curr: int, s: str):\n",
    "    print(rem, curr, s)\n",
    "    if rem == 0 and curr == 0:\n",
    "        ans.append(s)\n",
    "    if rem > 0:\n",
    "        displayParenthesis(rem-1, curr + 1, s = s+'(')\n",
    "\n",
    "    if curr > 0:\n",
    "        displayParenthesis(rem, curr-1, s= s+ ')')\n",
    "\n",
    "s = \"\"\n",
    "displayParenthesis(3, 0, s)\n",
    "print(ans)"
   ]
  },
  {
   "cell_type": "code",
   "execution_count": null,
   "metadata": {},
   "outputs": [],
   "source": [
    "temperatures = [73,74,75,71,69,72,76,73]\n",
    "res = [0]*len(temperatures)\n",
    "stack = []\n",
    "\n",
    "for i, j in enumerate(temperatures):\n",
    "    while stack and t > stack[-1][0]:\n",
    "        stackT, stackInd = stack.pop()\n",
    "        res[stackInd] = (i - stackInd)\n",
    "    stack.append([t, i])\n",
    "return res"
   ]
  },
  {
   "cell_type": "code",
   "execution_count": 35,
   "metadata": {},
   "outputs": [
    {
     "name": "stdout",
     "output_type": "stream",
     "text": [
      "[0, 9, 5, 32, 20]\n",
      "3\n"
     ]
    }
   ],
   "source": [
    "target = 12\n",
    "position = [10,8,0,5,3]\n",
    "speed = [2,4,1,1,3]\n",
    "distance = [0] * len(position)\n",
    "\n",
    "d = {}\n",
    "\n",
    "for i,j in enumerate(position):\n",
    "    d[j] = speed[i]\n",
    "\n",
    "position = sorted(position)\n",
    "\n",
    "\n",
    "i = 0 \n",
    "for x in position:\n",
    "    distance[i] = x*d[x]\n",
    "    i += 1\n",
    "\n",
    "count = 0 \n",
    "\n",
    "\n",
    "for m in range(len(distance)-1):\n",
    "    if distance[m] < distance[m+1]:\n",
    "        count += 1\n",
    "    else:\n",
    "        continue\n",
    "\n",
    "count += 1\n",
    "print(count)"
   ]
  },
  {
   "cell_type": "code",
   "execution_count": 36,
   "metadata": {},
   "outputs": [
    {
     "name": "stdout",
     "output_type": "stream",
     "text": [
      "[[10, 2], [8, 4], [0, 1], [5, 1], [3, 3]]\n"
     ]
    }
   ],
   "source": [
    "target = 12\n",
    "position = [10,8,0,5,3]\n",
    "speed = [2,4,1,1,3]\n",
    "\n",
    "pair = [[p, s] for p,s in zip(position, speed)]\n",
    "\n",
    "print(pair)\n",
    "stack = []\n",
    "\n",
    "for p,s in sorted(pair)[::-1]: #Reverse sorted order \n",
    "    stack.append((target - p) / s)\n",
    "    if len(stack) >= 2 and stack[-1] <= stack[-2]:\n",
    "        stack.pop()\n",
    "\n",
    "return (len(stack))\n",
    "\n"
   ]
  },
  {
   "cell_type": "code",
   "execution_count": 51,
   "metadata": {},
   "outputs": [
    {
     "name": "stdout",
     "output_type": "stream",
     "text": [
      "['flight', 'flow', 'flower']\n",
      "flight\n",
      "f\n",
      "fl\n",
      "fli\n",
      "flig\n",
      "fligh\n",
      "flight\n",
      "flow\n",
      "flightf\n",
      "flightfl\n",
      "flightflo\n",
      "flightflow\n",
      "flower\n",
      "flightflowf\n",
      "flightflowfl\n",
      "flightflowflo\n",
      "flightflowflow\n",
      "flightflowflowe\n",
      "flightflowflower\n",
      "\n"
     ]
    }
   ],
   "source": [
    "strs = [\"flower\",\"flow\",\"flight\"]\n",
    "\n",
    "strs = sorted(strs)\n",
    "print(strs)\n",
    "\n",
    "t = \"\"\n",
    "ans = \"\"\n",
    "for i in range(len(strs)):\n",
    "    print (strs[i])\n",
    "    for j in range(len(strs[i])):\n",
    "        t+=strs[i][j]\n",
    "        print(t)\n",
    "\n",
    "\n",
    "print(ans)"
   ]
  },
  {
   "cell_type": "code",
   "execution_count": 52,
   "metadata": {},
   "outputs": [
    {
     "name": "stdout",
     "output_type": "stream",
     "text": [
      "[4, 2, 4, 2, 3]\n"
     ]
    }
   ],
   "source": [
    "#Monotonically Decreasing Stack\n",
    "prices = [8,4,6,2,3]\n",
    "\n",
    "        \n",
    "stack = [] \n",
    "\n",
    "for i in range(len(prices)):\n",
    "    while stack and prices[stack[-1]] >= prices[i]:\n",
    "        prices[stack.pop()]-= prices[i]\n",
    "    stack.append(i)\n",
    "print(prices)"
   ]
  }
 ],
 "metadata": {
  "kernelspec": {
   "display_name": "Python 3",
   "language": "python",
   "name": "python3"
  },
  "language_info": {
   "codemirror_mode": {
    "name": "ipython",
    "version": 3
   },
   "file_extension": ".py",
   "mimetype": "text/x-python",
   "name": "python",
   "nbconvert_exporter": "python",
   "pygments_lexer": "ipython3",
   "version": "3.8.10"
  },
  "orig_nbformat": 4
 },
 "nbformat": 4,
 "nbformat_minor": 2
}
