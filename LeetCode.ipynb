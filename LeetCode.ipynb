{
 "cells": [
  {
   "attachments": {},
   "cell_type": "markdown",
   "metadata": {},
   "source": [
    "219"
   ]
  },
  {
   "cell_type": "code",
   "execution_count": 22,
   "metadata": {},
   "outputs": [
    {
     "name": "stdout",
     "output_type": "stream",
     "text": [
      "False\n"
     ]
    }
   ],
   "source": [
    "d={}\n",
    "for i in range(len(nums)):\n",
    "    if nums[i] in d: \n",
    "        if abs(d[nums[i]]- i) <=k:\n",
    "            print True\n",
    "    d[nums[i]] = i \n",
    "\n",
    "print (False)"
   ]
  },
  {
   "cell_type": "code",
   "execution_count": 45,
   "metadata": {},
   "outputs": [
    {
     "name": "stdout",
     "output_type": "stream",
     "text": [
      "[['eat', 'tea', 'ate'], ['tan', 'nat'], ['bat']]\n"
     ]
    }
   ],
   "source": [
    "strs = [\"eat\",\"tea\",\"tan\",\"ate\",\"nat\",\"bat\"]\n",
    "\n",
    "d = dict()\n",
    "for i in strs: \n",
    "    s = \"\"\n",
    "    temp = sorted(i)\n",
    "    s = s.join(temp)\n",
    "    if s in d:\n",
    "        d[s].append(i)\n",
    "    else: \n",
    "        d[s] = [i]\n",
    "\n",
    "ans = []\n",
    "\n",
    "for i in d: \n",
    "    ans.append(d[i])\n",
    "\n",
    "return(ans)"
   ]
  },
  {
   "cell_type": "code",
   "execution_count": 67,
   "metadata": {},
   "outputs": [
    {
     "name": "stdout",
     "output_type": "stream",
     "text": [
      "0\n",
      "-1\n",
      "2\n"
     ]
    }
   ],
   "source": [
    "#128 \n",
    "nums = [100, 4, 200,1,3,2]\n",
    "\n",
    "max = 0\n",
    "min = 0\n",
    "for i in nums: \n",
    "    if i > max:\n",
    "        max = i\n",
    "    if i < min: \n",
    "        min = i \n",
    "\n",
    "max += 1\n",
    "arr = {}\n",
    "\n",
    "for i in arr:\n",
    "    print(i)\n",
    "\n",
    "countmax = 1\n",
    "ans = 0\n",
    "for i in arr:\n",
    "    if arr[i] == 0: \n",
    "        countmax = 0\n",
    "    if arr[i] == 1: \n",
    "        countmax += 1\n",
    "    if countmax > ans:\n",
    "        ans = countmax \n",
    "\n",
    "print(ans)\n"
   ]
  },
  {
   "cell_type": "code",
   "execution_count": 85,
   "metadata": {},
   "outputs": [
    {
     "name": "stdout",
     "output_type": "stream",
     "text": [
      "[1, 1, 0, 0, 1, 0, 1, 1, 0, 0, 1]\n",
      "2\n"
     ]
    }
   ],
   "source": [
    "#2367\n",
    "nums = [0,1,4,6,7,10]\n",
    "diff = 3 \n",
    "\n",
    "m = nums[len(nums)-1]\n",
    "d = [0]*(m+1)\n",
    "\n",
    "for i in nums:\n",
    "    d[i] = 1\n",
    "\n",
    "count = 0\n",
    "\n",
    "print(d)\n",
    "\n",
    "for i in range(len(d)-diff-diff):\n",
    "    if d[i] == 1:\n",
    "        if d[i+diff] == 1: \n",
    "            if d[i+diff+diff]== 1:\n",
    "                count += 1\n",
    "\n",
    "print(count)\n"
   ]
  },
  {
   "cell_type": "code",
   "execution_count": 87,
   "metadata": {},
   "outputs": [
    {
     "name": "stdout",
     "output_type": "stream",
     "text": [
      "{'j', 's', 'b', 'g', 'n', 'h', 'k', 'w', 'q', 'p', 'x', 'u', 'l', 'a', 't', 'y', 'r', 'z', 'o', 'e', 'i', 'd', 'm', 'c', 'v', 'f'}\n"
     ]
    }
   ],
   "source": [
    "d = \"thequickbrownfoxjumpsoverthelazydog\"\n",
    "print(set(d))"
   ]
  },
  {
   "cell_type": "code",
   "execution_count": 93,
   "metadata": {},
   "outputs": [
    {
     "name": "stdout",
     "output_type": "stream",
     "text": [
      "j: 2\n",
      "j: 1\n",
      "j: 5\n",
      "j: 4\n",
      "j: 1\n",
      "j: 5\n",
      "j: 4\n",
      "j: 5\n",
      "j: 4\n",
      "j: 4\n",
      "4\n"
     ]
    }
   ],
   "source": [
    "nums = [3,2,1,5,4]\n",
    "k =1\n",
    "\n",
    "count = 0 \n",
    "\n",
    "for i in range(len(nums)): \n",
    "    for j in range(i+1, len(nums)):\n",
    "        if abs(nums[i] - nums[j]) == k: \n",
    "            count += 1\n",
    "\n",
    "print (count)"
   ]
  },
  {
   "cell_type": "code",
   "execution_count": 100,
   "metadata": {},
   "outputs": [
    {
     "name": "stdout",
     "output_type": "stream",
     "text": [
      "[0, 2, 3, 4]\n"
     ]
    }
   ],
   "source": [
    "#2657\n",
    "A = [1,3,2,4]\n",
    "B = [3,1,2,4]\n",
    "ans = [0]* len(A)\n",
    "\n",
    "for i in range(len(ans)):\n",
    "    temp = set(A[:i+1])\n",
    "    temp2 = set(B[:i+1])\n",
    "    ans[i] = len(temp.intersection(temp2))\n",
    "\n",
    "print(ans)"
   ]
  },
  {
   "cell_type": "code",
   "execution_count": 145,
   "metadata": {},
   "outputs": [
    {
     "name": "stdout",
     "output_type": "stream",
     "text": [
      "8\n",
      "14\n",
      "15\n",
      "19\n",
      "22\n",
      "23\n",
      "[9, 7, 8]\n"
     ]
    }
   ],
   "source": [
    "#763. Partition Labels\n",
    "s = \"ababcbacadefegdehijhklij\"\n",
    "d = {}\n",
    "\n",
    "for i in range(len(s)): \n",
    "    d[s[i]]= i\n",
    "\n",
    "ans = []\n",
    "prev = -1\n",
    "maxi = 0\n",
    "\n",
    "for i in range(len(s)):\n",
    "    if maxi < d[s[i]]:\n",
    "        maxi = d[s[i]]\n",
    "        print(maxi)\n",
    "    # maxi = max(maxi, d[s[i]])\n",
    "    if maxi == i:\n",
    "        ans.append(maxi-prev)\n",
    "        prev = maxi\n",
    "\n",
    "\n",
    "print(ans)\n",
    "\n",
    "\n",
    "# print(d)\n",
    "    \n"
   ]
  },
  {
   "cell_type": "code",
   "execution_count": 166,
   "metadata": {},
   "outputs": [
    {
     "name": "stdout",
     "output_type": "stream",
     "text": [
      "0 s\n",
      "{'s': 's'}\n",
      "1 s\n",
      "2 s\n",
      "3 s\n",
      "4 s\n",
      "5 s\n",
      "6\n"
     ]
    }
   ],
   "source": [
    "#2405 Optimal Partition of String\n",
    "\n",
    "s = \"ssssss\"\n",
    "\n",
    "ans = [] \n",
    "d = {}\n",
    "temp = \"\"\n",
    "\n",
    "for i in range(len(s)):\n",
    "    print(i, s[i])\n",
    "    if s[i] in d: \n",
    "        ans.append(temp)\n",
    "        d.clear()\n",
    "        temp = \"\" \n",
    "        temp += s[i]\n",
    "        d[s[i]] = temp\n",
    "    else: \n",
    "        temp += s[i]\n",
    "        d[s[i]] = temp\n",
    "        print(d)\n",
    "\n",
    "ans.append(temp)\n",
    "\n",
    "print(len(ans))\n",
    "\n",
    "# print(d)"
   ]
  },
  {
   "cell_type": "code",
   "execution_count": 11,
   "metadata": {},
   "outputs": [
    {
     "name": "stdout",
     "output_type": "stream",
     "text": [
      "[1, 3] [4, 6]\n"
     ]
    }
   ],
   "source": [
    "#2215\n",
    "\n",
    "nums1 = [1,2,3]\n",
    "nums2 = [2,4,6]\n",
    "\n",
    "ans1 = []\n",
    "ans2 = []\n",
    "\n",
    "for i in nums1: \n",
    "    if i not in nums2: \n",
    "        ans1.append(i)\n",
    "\n",
    "for j in nums2: \n",
    "    if j not in nums1: \n",
    "        ans2.append(j)\n",
    "\n",
    "\n",
    "ans.append(ans1)\n",
    "ans.append(ans2)\n",
    "\n",
    "print(ans1, ans2)"
   ]
  },
  {
   "cell_type": "code",
   "execution_count": 44,
   "metadata": {},
   "outputs": [
    {
     "name": "stdout",
     "output_type": "stream",
     "text": [
      "0 3\n",
      "Changing penalty to 3\n",
      "1 2\n",
      "Changing penalty to 2\n",
      "2 1\n",
      "Changing penalty to 1\n",
      "3 2\n",
      "done\n",
      "1\n",
      "2\n"
     ]
    }
   ],
   "source": [
    "#2483\n",
    "\n",
    "customers = \"YYNY\"\n",
    "minpenalty = 10**5\n",
    "\n",
    "for i in range(len(customers)):\n",
    "    penalty = 0\n",
    "    # print(customers[:i])\n",
    "    penalty += customers[:i].count('N')\n",
    "    # print(customers[i:])\n",
    "    penalty += customers[i:].count('Y')\n",
    "    # print(i, penalty)\n",
    "    if penalty < minpenalty:\n",
    "        # print(\"Changing penalty to\", penalty)\n",
    "        minpenalty = penalty\n",
    "        ans = i\n",
    "\n",
    "\n",
    "\n",
    "# print(ans)\n",
    "\n",
    "\n"
   ]
  },
  {
   "cell_type": "code",
   "execution_count": 3,
   "metadata": {},
   "outputs": [
    {
     "name": "stdout",
     "output_type": "stream",
     "text": [
      "True\n"
     ]
    }
   ],
   "source": [
    "#1941\n",
    "s = \"abacbc\"\n",
    "d = {}\n",
    "for i in s:\n",
    "    if i not in d: \n",
    "        d[i] = 1\n",
    "    else:\n",
    "        d[i] += 1\n",
    "\n",
    "count = d[s[0]]\n",
    "\n",
    "for i in d:\n",
    "    if d[i] != count:\n",
    "        print(False)\n",
    "\n",
    "print(True)"
   ]
  },
  {
   "cell_type": "code",
   "execution_count": 17,
   "metadata": {},
   "outputs": [
    {
     "name": "stdout",
     "output_type": "stream",
     "text": [
      "[3, 1]\n"
     ]
    }
   ],
   "source": [
    "nums = [1,3,2,1,3,2,2]\n",
    "d = {}\n",
    "\n",
    "for num in nums: \n",
    "    if num not in d: \n",
    "        d[num] = 1\n",
    "    else:\n",
    "        d[num] += 1\n",
    "\n",
    "div = 0\n",
    "rem = 0\n",
    "\n",
    "for num in d:\n",
    "    div += int(d[num]/2)\n",
    "    rem += d[num]%2\n",
    "\n",
    "ans = [div, rem]\n",
    "\n",
    "print(ans)\n"
   ]
  },
  {
   "cell_type": "code",
   "execution_count": 20,
   "metadata": {},
   "outputs": [
    {
     "name": "stdout",
     "output_type": "stream",
     "text": [
      "()\n",
      "()[]\n",
      "()[]{}\n"
     ]
    }
   ],
   "source": [
    "s = \"()[]{}\"\n",
    "stack = []\n",
    "\n",
    "d = {}\n",
    "d['{'] = '}'\n",
    "d['('] = ')'\n",
    "d['['] = ']'\n",
    "temp = \"\"\n",
    "\n",
    "for i in s: \n",
    "    if i in d: \n",
    "        temp += i\n",
    "        temp += d[i]\n",
    "        print(temp)\n",
    "    else: \n",
    "        continue\n",
    "if s == temp: \n",
    "    return True\n",
    "else: \n",
    "    return False"
   ]
  },
  {
   "cell_type": "code",
   "execution_count": 29,
   "metadata": {},
   "outputs": [
    {
     "name": "stdout",
     "output_type": "stream",
     "text": [
      "[1, 1, 2]\n"
     ]
    }
   ],
   "source": [
    "list1 = [1,2,4]\n",
    "list2 = [1,3,4]\n",
    "\n",
    "curr = ans = ListNode()\n",
    "\n",
    "while list1 and list2:\n",
    "    if list1.val < list2.val:\n",
    "        curr.next = list1\n",
    "        list1, curr = list1.next, list1 \n",
    "    else: \n",
    "        curr.next = list2\n",
    "        list2, curr = list2.next, \n",
    "\n",
    "if list1 or list2: \n",
    "    curr.next = list1 if list1 else list2 \n",
    "\n",
    "return ans.next \n",
    "    \n",
    "print(ans)"
   ]
  },
  {
   "cell_type": "code",
   "execution_count": 37,
   "metadata": {},
   "outputs": [
    {
     "name": "stdout",
     "output_type": "stream",
     "text": [
      "Mon\n",
      "Wed\n",
      "Tue\n"
     ]
    }
   ],
   "source": [
    "class Node:\n",
    "   def __init__(self, dataval=None):\n",
    "      self.dataval = dataval\n",
    "      self.nextval = None\n",
    "\n",
    "class SLinkedList:\n",
    "   def __init__(self):\n",
    "      self.headval = None\n",
    "\n",
    "   def listprint(self):\n",
    "      printval = self.headval\n",
    "      while printval is not None:\n",
    "         print (printval.dataval)\n",
    "         printval = printval.nextval\n",
    "\n",
    "list = SLinkedList()\n",
    "list.headval = Node(\"Mon\")\n",
    "e2 = Node(\"Tue\")\n",
    "e3 = Node(\"Wed\")\n",
    "\n",
    "# Link first Node to second node\n",
    "list.headval.nextval = e3\n",
    "\n",
    "# Link second Node to third node\n",
    "e3.nextval = e2\n",
    "\n",
    "list.listprint()"
   ]
  },
  {
   "cell_type": "code",
   "execution_count": 53,
   "metadata": {},
   "outputs": [
    {
     "name": "stdout",
     "output_type": "stream",
     "text": [
      "amanaplanacanalpanama\n",
      "amanaplanacanalpanama\n"
     ]
    }
   ],
   "source": [
    "s = \"A man, a plan, a canal: Panama\"\n",
    "\n",
    "s = s.lower()\n",
    "ans = \"\"\n",
    "\n",
    "for i in s: \n",
    "    if i in 'abcdefghijklmnopqrstuvwxyz':\n",
    "        ans += i\n",
    "\n",
    "ans2 = \"\"\n",
    "for i in reversed(ans):\n",
    "    ans2 += i\n",
    "\n",
    "if ans == ans2:\n",
    "    return True\n",
    "else\n",
    "    return False\n",
    "print(ans)\n",
    "print(ans2)"
   ]
  },
  {
   "cell_type": "code",
   "execution_count": null,
   "metadata": {},
   "outputs": [],
   "source": [
    "# class TreeNode:\n",
    "#     def __init__(self, val=0, left=None, right=None):\n",
    "#         self.val = val\n",
    "#         self.left = left\n",
    "#         self.right = right"
   ]
  }
 ],
 "metadata": {
  "kernelspec": {
   "display_name": "Python 3",
   "language": "python",
   "name": "python3"
  },
  "language_info": {
   "codemirror_mode": {
    "name": "ipython",
    "version": 3
   },
   "file_extension": ".py",
   "mimetype": "text/x-python",
   "name": "python",
   "nbconvert_exporter": "python",
   "pygments_lexer": "ipython3",
   "version": "3.8.10"
  },
  "orig_nbformat": 4
 },
 "nbformat": 4,
 "nbformat_minor": 2
}
